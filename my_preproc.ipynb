{
 "cells": [
  {
   "cell_type": "code",
   "execution_count": 289,
   "metadata": {
    "collapsed": false,
    "jupyter": {
     "outputs_hidden": false
    }
   },
   "outputs": [],
   "source": [
    "# import stuff\n",
    "%matplotlib inline\n",
    "\n",
    "from __future__ import print_function\n",
    "from __future__ import division\n",
    "\n",
    "import pandas as pd\n",
    "import numpy as np\n",
    "\n",
    "from matplotlib import pyplot as plt\n",
    "import seaborn as sns\n",
    "\n",
    "from sklearn.model_selection import train_test_split\n",
    "import statsmodels.api as sm\n",
    "\n",
    "from statsmodels.tools import eval_measures\n",
    "import statsmodels.formula.api as smf\n",
    "\n",
    "from sklearn.ensemble import RandomForestRegressor\n",
    "from sklearn import metrics\n",
    "from pyts.preprocessing import InterpolationImputer\n",
    "\n",
    "# just for the sake of this blog post!\n",
    "from warnings import filterwarnings\n",
    "filterwarnings('ignore')\n",
    "\n",
    "# load the provided data\n",
    "train_features = pd.read_csv('data-processed/dengue_features_train.csv',\n",
    "                             index_col=[0,1,2])\n",
    "\n",
    "train_labels = pd.read_csv('data-processed/dengue_labels_train.csv',\n",
    "                           index_col=[0,1,2])\n",
    "\n",
    "# Seperate data for San Juan\n",
    "sj_train_features = train_features.loc['sj']\n",
    "sj_train_labels = train_labels.loc['sj']\n",
    "\n",
    "# Separate data for Iquitos\n",
    "iq_train_features = train_features.loc['iq']\n",
    "iq_train_labels = train_labels.loc['iq']"
   ]
  },
  {
   "cell_type": "code",
   "execution_count": 290,
   "metadata": {
    "tags": []
   },
   "outputs": [],
   "source": [
    "# run all preprocessing steps on both cities, then in last step seperate them\n",
    "\n",
    "# load data\n",
    "X_path = 'data-processed/dengue_features_train.csv'\n",
    "y_path = \"data-processed/dengue_labels_train.csv\"\n",
    "\n",
    "def preprocess_data( X_path, labels):\n",
    "    \n",
    "    # Input: \n",
    "    # labels: logical true or false whether we have y (because submission data does not)\n",
    "    \n",
    "    # load data and set index to city, year, weekofyear and remove week_start_date\n",
    "    df = pd.read_csv(X_path, index_col=[0, 1, 2])\n",
    "    df = df.drop('week_start_date',axis=1)#[features]\n",
    "\n",
    "    # fill missing values with interpolation\n",
    "    df.fillna(method='bfill', inplace=True) # bfill: use next valid observation to fill gap\n",
    "\n",
    "    ### add lag ###\n",
    "    lag        = 3\n",
    "    var2change = ['station_max_temp_c', \n",
    "                  'station_precip_mm',\n",
    "                  'reanalysis_relative_humidity_percent',\n",
    "                  'station_avg_temp_c']\n",
    "\n",
    "    new_names = []\n",
    "    for i,j in enumerate(var2change):\n",
    "        new_names.append( j + '_lag')\n",
    "\n",
    "        df[new_names[i]] = df[var2change[i]].shift(lag)  # Lagged by 1 time step\n",
    "    \n",
    "        # remove original \n",
    "        df = df.drop(var2change[i],axis=1)\n",
    "\n",
    "    # remove missing values again because of lag\n",
    "    df.fillna(method='bfill', inplace=True)\n",
    "\n",
    "    \n",
    "    ### create interaction feature: humidity above 42 % temperature above 26 degrees\n",
    "    \n",
    "    df['Humid_X_Temp26'] = np.where((df['reanalysis_relative_humidity_percent_lag'] >= 42) & (df['station_avg_temp_c_lag'] >= 26), 1, 0)    \n",
    "\n",
    "    if labels==True:\n",
    "        # add predictor to DF to seperate the cities\n",
    "        y_path = \"data-processed/dengue_labels_train.csv\"\n",
    "        y = pd.read_csv(y_path, index_col=[0, 1, 2])\n",
    "        df = df.join(y)\n",
    "    \n",
    "    # separate san juan and iquitos\n",
    "    df_sj = df.loc['sj']\n",
    "    df_iq = df.loc['iq']\n",
    "\n",
    "    if labels==True:\n",
    "        # remove y from X again\n",
    "        # San Juan\n",
    "        X_sj = df_sj.drop('total_cases',axis=1)\n",
    "        y_sj = df_sj['total_cases']\n",
    "\n",
    "        # Iquitos\n",
    "        X_iq = df_iq.drop('total_cases',axis=1)\n",
    "        y_iq = df_iq['total_cases']\n",
    "        \n",
    "    else:\n",
    "        X_sj = df_sj\n",
    "        X_iq = df_iq\n",
    "        y_sj = []\n",
    "        y_iq = []\n",
    "            \n",
    "    return X_sj, y_sj, X_iq, y_iq\n",
    "\n",
    "# remove df later again, just for debugging\n",
    "[X_sj, y_sj, X_iq, y_iq] = preprocess_data( X_path, True)\n"
   ]
  },
  {
   "cell_type": "code",
   "execution_count": 291,
   "metadata": {
    "tags": []
   },
   "outputs": [],
   "source": [
    "# run OLS, check for non-important variables\n",
    "\n",
    "X = sm.add_constant(X_sj, prepend=False)\n",
    "y = y_sj\n",
    "\n",
    "# Fit and summarize OLS model\n",
    "mod = sm.OLS(y, X).fit()\n",
    "#print(mod.summary())"
   ]
  },
  {
   "cell_type": "code",
   "execution_count": 292,
   "metadata": {
    "tags": []
   },
   "outputs": [],
   "source": [
    "# remove some unimportant regressors for San Juan accoding to OLS\n",
    "#X_sj = X_sj.drop(columns=['ndvi_se','ndvi_sw'])"
   ]
  },
  {
   "cell_type": "code",
   "execution_count": 293,
   "metadata": {},
   "outputs": [],
   "source": [
    "# Seperate X into prior and future train vs. test sets\n",
    "\n",
    "# San Juan is 936 x 21\n",
    "X_sj_train = X_sj.iloc[1:701]\n",
    "X_sj_test = X_sj.iloc[701:]\n",
    "\n",
    "# Iquitos is 520x20: split 390 vs 130\n",
    "X_iq_train = X_iq.iloc[1:391]\n",
    "X_iq_test = X_iq.iloc[391:]"
   ]
  },
  {
   "cell_type": "code",
   "execution_count": 294,
   "metadata": {},
   "outputs": [],
   "source": [
    "# SJ\n",
    "y_sj_train = y_sj.iloc[1:701]\n",
    "y_sj_test  = y_sj.iloc[701:]\n",
    "\n",
    "# IQ\n",
    "y_iq_train = y_iq.iloc[1:391]\n",
    "y_iq_test  = y_iq.iloc[391:]"
   ]
  },
  {
   "cell_type": "code",
   "execution_count": 295,
   "metadata": {},
   "outputs": [
    {
     "name": "stdout",
     "output_type": "stream",
     "text": [
      "San Juan: 1153.9744680851063\n",
      "Iquitos: 159.5503875968992\n"
     ]
    }
   ],
   "source": [
    "# my version benchmarking function\n",
    "\n",
    "# San Juan\n",
    "# best alpha =  1e-08\n",
    "# best score =  756.9779411764706\n",
    "\n",
    "# Peru\n",
    "# best alpha =  1e-08\n",
    "# best score =  119.31666666666666\n",
    "\n",
    "def get_score(X_train, y_train, X_test, y_test):\n",
    "    \n",
    "    rf_regressor = RandomForestRegressor(n_estimators = 10, random_state = 0)\n",
    "    rf_regressor.fit(X_train, y_train)\n",
    "\n",
    "    y_pred = rf_regressor.predict(X_test).astype(int)\n",
    "    my_mse = metrics.mean_squared_error(y_test, y_pred)\n",
    "    \n",
    "    return my_mse, y_pred, rf_regressor\n",
    "\n",
    "# output MSE \n",
    "[mse_sj, sj_pred, model_sj] = get_score(X_sj_train, y_sj_train, X_sj_test, y_sj_test)\n",
    "print('San Juan: ' + str(mse_sj))\n",
    "\n",
    "[mse_iq, iq_pred, model_iq] = get_score(X_iq_train, y_iq_train, X_iq_test, y_iq_test)\n",
    "print('Iquitos: ' + str(mse_iq))\n"
   ]
  },
  {
   "cell_type": "code",
   "execution_count": 286,
   "metadata": {
    "tags": []
   },
   "outputs": [],
   "source": [
    "# baseline model with 4 features: 1802.2099802009457\n",
    "# baseline model with all features: 1458.708840425532 \n",
    "\n",
    "# experiment on interpolation\n",
    "# after interpolation with 4 feature: 1906.9913617021275 \n",
    "# after interpolation with all features 1762.8954468085103 with all features using ffill\n",
    "# after interpolation with all features 11281.0836463829787 with all features using bfill\n",
    "\n",
    "# experiment on lag, removing original avg_temp\n",
    "# baseline model, 4 features, bfill: 1281.0836463829787\n",
    "# baseline model, 4 features, bfill, lagged by 1 avg, temp: 1623.894638297872\n",
    "# baseline model, 4 features, bfill, lagged by 2 avg, temp: 1454.7012340425533\n",
    "# baseline model, 4 features, bfill, lagged by 3 avg, temp: 1361.6014042553193\n",
    "\n",
    "# experiment on lag, keeping original avg_temp\n",
    "# baseline model, 4 features, bfill: 1281.0836463829787\n",
    "# baseline model, 4 features, bfill, lagged by 1 avg, temp:\n",
    "\n",
    "# experiment on lag, removing original humidity\n",
    "# 1 weeks: 1538.7760425531915\n",
    "# 2 weeks: 1617.551914893617\n",
    "# 3 weeks: 1429.1278297872343\n",
    "\n",
    "# experiment on lag, keeping original humidity\n",
    "# 2 weeks: 1617.551914893617\n",
    "# 1458.708840425532\n",
    "# 1524.5711259574466\n",
    "\n",
    "# 3 week lag, max temp, removing original, bfill\n",
    "# 1221.451829787234 \n",
    "\n",
    "# max and precipitation\n",
    "# 1185.6852765957449\n",
    "\n",
    "# max, precip and humidity\n",
    "# 1135.5494893617022\n",
    "\n",
    "# removing SE and SW\n",
    "#1128.7711063829786\n",
    "\n",
    "# interaction\n",
    "# San Juan: 1153.9744680851063\n",
    "# Iquitos: 159.5503875968992"
   ]
  },
  {
   "cell_type": "code",
   "execution_count": 287,
   "metadata": {
    "tags": []
   },
   "outputs": [],
   "source": [
    "# list of changes to keep\n",
    "\n",
    "### BETTER ###\n",
    "# fill missing values\n",
    "# df.fillna(method='bfill', inplace=True) better than ffill\n",
    "\n",
    "\n",
    "### Worse ###\n",
    "# avg_temp lag of 1-4 all worse"
   ]
  },
  {
   "cell_type": "code",
   "execution_count": 288,
   "metadata": {},
   "outputs": [],
   "source": [
    "sj_test, sj_y, iq_test, iq_y = preprocess_data('data-processed/dengue_features_test.csv', False)\n",
    "\n",
    "sj_predictions = model_sj.predict(sj_test).astype(int)\n",
    "iq_predictions = model_iq.predict(iq_test).astype(int)\n",
    "\n",
    "submission = pd.read_csv(\"data-processed/submission_format.csv\",\n",
    "                         index_col=[0, 1, 2])\n",
    "\n",
    "submission.total_cases = np.concatenate([sj_predictions, iq_predictions])\n",
    "submission.to_csv(\"data-processed/our_model1.csv\")"
   ]
  }
 ],
 "metadata": {
  "anaconda-cloud": {},
  "kernelspec": {
   "display_name": "dsr-b34",
   "language": "python",
   "name": "dsr-b34"
  },
  "language_info": {
   "codemirror_mode": {
    "name": "ipython",
    "version": 3
   },
   "file_extension": ".py",
   "mimetype": "text/x-python",
   "name": "python",
   "nbconvert_exporter": "python",
   "pygments_lexer": "ipython3",
   "version": "3.10.10"
  }
 },
 "nbformat": 4,
 "nbformat_minor": 4
}
